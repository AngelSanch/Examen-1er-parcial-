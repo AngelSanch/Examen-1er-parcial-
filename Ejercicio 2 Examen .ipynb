{
  "nbformat": 4,
  "nbformat_minor": 0,
  "metadata": {
    "colab": {
      "name": "Untitled12.ipynb",
      "provenance": []
    },
    "kernelspec": {
      "name": "python3",
      "display_name": "Python 3"
    }
  },
  "cells": [
    {
      "cell_type": "markdown",
      "metadata": {
        "id": "VfQTInGinwHm"
      },
      "source": [
        "# Examen primer parcial \n",
        "\n",
        "Resolucion de examen de primer parcial \n",
        "\n",
        "Sanchez Coronado Angel Erubiel 2SV1\n"
      ]
    },
    {
      "cell_type": "markdown",
      "metadata": {
        "id": "Eki0I0uPp8xZ"
      },
      "source": [
        "Ejercicio 2\n",
        "\n",
        "Con la siguiente funcion obtener los valores de x desde -4 hasta 10\n",
        "\n",
        "\n",
        "![Captura de Pantalla 2020-11-05 a la(s) 17.05.27.png](data:image/png;base64,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)"
      ]
    },
    {
      "cell_type": "code",
      "metadata": {
        "id": "W67e7z8sqYwh",
        "outputId": "10a9fbb9-9a57-4226-e329-05eb6adc7236",
        "colab": {
          "base_uri": "https://localhost:8080/"
        }
      },
      "source": [
        "\n",
        "\n",
        "def funcion(x):\n",
        "  fun=x**2+3*x+3\n",
        "  print(\"El resultado es=\",fun)\n",
        "x=float(input(\"Inserte el valor de x= \"))\n",
        "\n",
        "funcion(x)\n",
        "\n",
        "\n",
        "lista=[]\n",
        "def solucion(y):\n",
        "  f=y**2+3*y+3\n",
        "  return f \n",
        "a=-5\n",
        "while a<10 and solucion(a)<30:\n",
        "  a=a+1\n",
        "  solucion(a)\n",
        "  lista.append(solucion(a))\n",
        "print(\"Lista de valores\",lista)"
      ],
      "execution_count": 14,
      "outputs": [
        {
          "output_type": "stream",
          "text": [
            "Inserte el valor de x= 2\n",
            "El resultado es= 13.0\n",
            "Lista de valores [7, 3, 1, 1, 3, 7, 13, 21, 31]\n"
          ],
          "name": "stdout"
        }
      ]
    }
  ]
}
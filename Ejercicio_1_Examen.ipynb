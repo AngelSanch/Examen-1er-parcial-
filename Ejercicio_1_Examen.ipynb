{
  "nbformat": 4,
  "nbformat_minor": 0,
  "metadata": {
    "colab": {
      "name": "Ejercicio 1 Examen.ipynb",
      "provenance": [],
      "collapsed_sections": []
    },
    "kernelspec": {
      "name": "python3",
      "display_name": "Python 3"
    }
  },
  "cells": [
    {
      "cell_type": "markdown",
      "metadata": {
        "id": "-1qDiibyDAGu"
      },
      "source": [
        "# Examen primer parcial \n",
        "\n",
        "Resolucion de examen de primer parcial \n",
        "\n",
        "Sanchez Coronado Angel Erubiel 2SV1"
      ]
    },
    {
      "cell_type": "code",
      "metadata": {
        "id": "eOx6JGhIGzyq"
      },
      "source": [
        ""
      ],
      "execution_count": null,
      "outputs": []
    },
    {
      "cell_type": "markdown",
      "metadata": {
        "id": "D7XNrEcNERIQ"
      },
      "source": [
        "Ejercicio 1 \n",
        "\n",
        "Calcular las raices de una ecucion de segundo grado del tipo \n",
        "\n",
        "![Captura de Pantalla 2020-11-05 a la(s) 14.22.43.png](data:image/png;base64,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)"
      ]
    },
    {
      "cell_type": "code",
      "metadata": {
        "id": "VXEVkSDGDLRy",
        "outputId": "d9b1dc3a-e90d-4eaf-de21-f8c44d46d691",
        "colab": {
          "base_uri": "https://localhost:8080/"
        }
      },
      "source": [
        "a=float(input(\"Introduce el valor de a: \"))\n",
        "b=float(input(\"Introduce el valor de b: \"))\n",
        "c=float(input(\"Introduce el valor de c: \"))\n",
        "d=(b**2)-(4*(a)*(c))\n",
        "e=d**0.5\n",
        "f=2*a\n",
        "print(\"El valor del discriminante es =\",d)\n",
        "if d<0:\n",
        "  print(\"Error, el discriminante debe ser positivo\")  \n",
        "  print(\"Introduce una ecuacion distinta\")\n",
        "  i=float(input(\"Introduce el valor de a: \"))\n",
        "  j=float(input(\"Introduce el valor de b: \"))\n",
        "  k=float(input(\"Introduce el valor de c: \"))\n",
        "  l=(j**2)-(4*(i)*(k))\n",
        "  print(\"El nuevo valor del discriminante es:\",l)\n",
        "  if l>=0:\n",
        "    m=l**0.5\n",
        "    n=2*i\n",
        "    x3=(-j+m)/n\n",
        "    x4=(-j-m)/n\n",
        "    print(\"El valor de x1=\",x3)\n",
        "    print(\"El valor de x2=\",x4)   \n",
        "  while l<0:\n",
        "    print(\"El discriminante sigue siendo 0, introduce una nueva ecuacion \")\n",
        "    r=float(input(\"Introduce el valor de a: \"))\n",
        "    s=float(input(\"Introduce el valor de b: \"))\n",
        "    t=float(input(\"Introduce el valor de c: \"))\n",
        "    q=(s**2)-(4*(r)*(t))\n",
        "    print(\"El nuevo discriminante es:\",q)\n",
        "    if q>=0:\n",
        "      u=q**0.5\n",
        "      v=2*r\n",
        "      x5=(-s+u)/v\n",
        "      x6=(-s-u)/v\n",
        "      print(\"El valor de x1=\",x5)\n",
        "      print(\"El valor de x2=\",x6)\n",
        "      if q>=0:\n",
        "        break\n",
        "\n",
        "else:\n",
        "  x1=(-b+e)/f\n",
        "  x2=(-b-e)/f\n",
        "  print(\"El valor de x1=\",x1)\n",
        "  print(\"El valor de x2=\",x2)\n",
        "\n"
      ],
      "execution_count": null,
      "outputs": [
        {
          "output_type": "stream",
          "text": [
            "Introduce el valor de a: 5\n",
            "Introduce el valor de b: 1\n",
            "Introduce el valor de c: 1\n",
            "El valor del discriminante es = -19.0\n",
            "Error, el discriminante debe ser positivo\n",
            "Introduce una ecuacion distinta\n",
            "Introduce el valor de a: 5\n",
            "Introduce el valor de b: 1\n",
            "Introduce el valor de c: 1\n",
            "El nuevo valor del discriminante es: -19.0\n",
            "El discriminante sigue siendo 0, introduce una nueva ecuacion \n",
            "Introduce el valor de a: 5\n",
            "Introduce el valor de b: 1\n",
            "Introduce el valor de c: 1\n",
            "El nuevo discriminante es: -19.0\n",
            "El discriminante sigue siendo 0, introduce una nueva ecuacion \n",
            "Introduce el valor de a: 5\n",
            "Introduce el valor de b: 1\n",
            "Introduce el valor de c: 1\n",
            "El nuevo discriminante es: -19.0\n",
            "El discriminante sigue siendo 0, introduce una nueva ecuacion \n",
            "Introduce el valor de a: 1\n",
            "Introduce el valor de b: 5\n",
            "Introduce el valor de c: 1\n",
            "El nuevo discriminante es: 21.0\n",
            "El valor de x1= -0.20871215252208009\n",
            "El valor de x2= -4.7912878474779195\n"
          ],
          "name": "stdout"
        }
      ]
    }
  ]
}